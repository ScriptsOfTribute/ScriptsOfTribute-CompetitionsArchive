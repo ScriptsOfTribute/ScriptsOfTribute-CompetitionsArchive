{
 "cells": [
  {
   "cell_type": "code",
   "execution_count": 2,
   "id": "c9bb9e28",
   "metadata": {},
   "outputs": [],
   "source": [
    "import pandas as pd"
   ]
  },
  {
   "cell_type": "code",
   "execution_count": 3,
   "id": "a9e45bf0",
   "metadata": {},
   "outputs": [],
   "source": [
    "df = pd.read_csv('../checkpoints/metrics.csv')"
   ]
  },
  {
   "cell_type": "code",
   "execution_count": 4,
   "id": "b8a45d91",
   "metadata": {},
   "outputs": [],
   "source": [
    "df_percent = df.copy()\n",
    "for col in df.columns[2:]:\n",
    "    df_percent[col] = df[col] * 100\n"
   ]
  },
  {
   "cell_type": "code",
   "execution_count": 5,
   "id": "726123cf",
   "metadata": {},
   "outputs": [
    {
     "data": {
      "text/html": [
       "<div>\n",
       "<style scoped>\n",
       "    .dataframe tbody tr th:only-of-type {\n",
       "        vertical-align: middle;\n",
       "    }\n",
       "\n",
       "    .dataframe tbody tr th {\n",
       "        vertical-align: top;\n",
       "    }\n",
       "\n",
       "    .dataframe thead th {\n",
       "        text-align: right;\n",
       "    }\n",
       "</style>\n",
       "<table border=\"1\" class=\"dataframe\">\n",
       "  <thead>\n",
       "    <tr style=\"text-align: right;\">\n",
       "      <th></th>\n",
       "      <th>timestamp</th>\n",
       "      <th>RandomWithoutEndTurnBot</th>\n",
       "      <th>MaxPrestigeBot</th>\n",
       "      <th>DecisionTreeBot</th>\n",
       "      <th>BeamSearchBot</th>\n",
       "      <th>MCTSBot</th>\n",
       "      <th>SOISMCTS</th>\n",
       "    </tr>\n",
       "  </thead>\n",
       "  <tbody>\n",
       "    <tr>\n",
       "      <th>19</th>\n",
       "      <td>2025-06-23T12:29:33</td>\n",
       "      <td>99.0</td>\n",
       "      <td>99.0</td>\n",
       "      <td>72.0</td>\n",
       "      <td>68.0</td>\n",
       "      <td>72.0</td>\n",
       "      <td>42.0</td>\n",
       "    </tr>\n",
       "    <tr>\n",
       "      <th>20</th>\n",
       "      <td>2025-06-23T16:40:29</td>\n",
       "      <td>100.0</td>\n",
       "      <td>95.0</td>\n",
       "      <td>76.0</td>\n",
       "      <td>70.0</td>\n",
       "      <td>71.0</td>\n",
       "      <td>43.0</td>\n",
       "    </tr>\n",
       "    <tr>\n",
       "      <th>21</th>\n",
       "      <td>2025-06-24T15:12:41</td>\n",
       "      <td>100.0</td>\n",
       "      <td>97.0</td>\n",
       "      <td>74.0</td>\n",
       "      <td>65.0</td>\n",
       "      <td>71.0</td>\n",
       "      <td>45.0</td>\n",
       "    </tr>\n",
       "    <tr>\n",
       "      <th>22</th>\n",
       "      <td>2025-06-24T19:45:46</td>\n",
       "      <td>100.0</td>\n",
       "      <td>96.0</td>\n",
       "      <td>77.0</td>\n",
       "      <td>72.0</td>\n",
       "      <td>67.0</td>\n",
       "      <td>50.0</td>\n",
       "    </tr>\n",
       "    <tr>\n",
       "      <th>23</th>\n",
       "      <td>2025-06-25T15:50:11</td>\n",
       "      <td>100.0</td>\n",
       "      <td>100.0</td>\n",
       "      <td>82.5</td>\n",
       "      <td>67.5</td>\n",
       "      <td>70.0</td>\n",
       "      <td>45.0</td>\n",
       "    </tr>\n",
       "  </tbody>\n",
       "</table>\n",
       "</div>"
      ],
      "text/plain": [
       "              timestamp  RandomWithoutEndTurnBot  MaxPrestigeBot  \\\n",
       "19  2025-06-23T12:29:33                     99.0            99.0   \n",
       "20  2025-06-23T16:40:29                    100.0            95.0   \n",
       "21  2025-06-24T15:12:41                    100.0            97.0   \n",
       "22  2025-06-24T19:45:46                    100.0            96.0   \n",
       "23  2025-06-25T15:50:11                    100.0           100.0   \n",
       "\n",
       "    DecisionTreeBot  BeamSearchBot  MCTSBot  SOISMCTS  \n",
       "19             72.0           68.0     72.0      42.0  \n",
       "20             76.0           70.0     71.0      43.0  \n",
       "21             74.0           65.0     71.0      45.0  \n",
       "22             77.0           72.0     67.0      50.0  \n",
       "23             82.5           67.5     70.0      45.0  "
      ]
     },
     "execution_count": 5,
     "metadata": {},
     "output_type": "execute_result"
    }
   ],
   "source": [
    "df_percent.drop('ckpt', axis=1).tail()"
   ]
  }
 ],
 "metadata": {
  "kernelspec": {
   "display_name": "DataScience",
   "language": "python",
   "name": "python3"
  },
  "language_info": {
   "codemirror_mode": {
    "name": "ipython",
    "version": 3
   },
   "file_extension": ".py",
   "mimetype": "text/x-python",
   "name": "python",
   "nbconvert_exporter": "python",
   "pygments_lexer": "ipython3",
   "version": "3.10.2"
  }
 },
 "nbformat": 4,
 "nbformat_minor": 5
}
